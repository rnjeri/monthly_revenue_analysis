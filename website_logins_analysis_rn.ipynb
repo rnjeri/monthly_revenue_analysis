{
 "cells": [
  {
   "cell_type": "markdown",
   "metadata": {},
   "source": [
    "Link to Tableau Workbook: https://drive.google.com/file/d/1Udl3guXjLRdEZnUYoWfUkqGuc3lHEh6V/view?usp=sharing"
   ]
  },
  {
   "cell_type": "markdown",
   "metadata": {},
   "source": [
    "### Import Required Packages"
   ]
  },
  {
   "cell_type": "code",
   "execution_count": 1,
   "metadata": {},
   "outputs": [],
   "source": [
    "import boto3\n",
    "import pandas as pd\n",
    "import pyarrow.parquet as pq\n",
    "import numpy as np\n",
    "import os"
   ]
  },
  {
   "cell_type": "markdown",
   "metadata": {},
   "source": [
    "### Connect to S3"
   ]
  },
  {
   "cell_type": "code",
   "execution_count": 2,
   "metadata": {},
   "outputs": [],
   "source": [
    "client = boto3.client('s3')"
   ]
  },
  {
   "cell_type": "code",
   "execution_count": 3,
   "metadata": {},
   "outputs": [],
   "source": [
    "path = 's3://moz-sr-data-analyst/'"
   ]
  },
  {
   "cell_type": "code",
   "execution_count": 4,
   "metadata": {},
   "outputs": [
    {
     "name": "stdout",
     "output_type": "stream",
     "text": [
      "columns.tsv\n",
      "industries.csv\n",
      "website_logins/partition=1/c529fa6a3c1c4f59a479cfe09fef95b1.parquet\n",
      "website_logins/partition=2/d5cf97a41ef14917994cc133878208de.parquet\n",
      "website_logins/partition=3/9c84cacb114c4aaa8c781306f4909b95.parquet\n",
      "website_logins/partition=4/1c03d4bc41964861a1831e033254bd62.parquet\n",
      "website_logins/partition=5/1d7a393aa9314fd78b6aab06171511f5.parquet\n",
      "website_logins/partition=6/30655ffceadb43888f353a222399df75.parquet\n"
     ]
    }
   ],
   "source": [
    "s3 = boto3.resource('s3')\n",
    "my_bucket = s3.Bucket('moz-sr-data-analyst')\n",
    "\n",
    "for my_bucket_object in my_bucket.objects.all():\n",
    "    print(my_bucket_object.key)"
   ]
  },
  {
   "cell_type": "markdown",
   "metadata": {},
   "source": [
    "### Import Data from S3 and Clean the Data"
   ]
  },
  {
   "cell_type": "code",
   "execution_count": 5,
   "metadata": {},
   "outputs": [],
   "source": [
    "columns = pd.read_csv('s3://moz-sr-data-analyst/columns.tsv', sep = '\\t')"
   ]
  },
  {
   "cell_type": "code",
   "execution_count": 6,
   "metadata": {},
   "outputs": [
    {
     "data": {
      "text/html": [
       "<div>\n",
       "<style scoped>\n",
       "    .dataframe tbody tr th:only-of-type {\n",
       "        vertical-align: middle;\n",
       "    }\n",
       "\n",
       "    .dataframe tbody tr th {\n",
       "        vertical-align: top;\n",
       "    }\n",
       "\n",
       "    .dataframe thead th {\n",
       "        text-align: right;\n",
       "    }\n",
       "</style>\n",
       "<table border=\"1\" class=\"dataframe\">\n",
       "  <thead>\n",
       "    <tr style=\"text-align: right;\">\n",
       "      <th></th>\n",
       "      <th>column_name</th>\n",
       "      <th>position</th>\n",
       "    </tr>\n",
       "  </thead>\n",
       "  <tbody>\n",
       "    <tr>\n",
       "      <th>0</th>\n",
       "      <td>id</td>\n",
       "      <td>0</td>\n",
       "    </tr>\n",
       "    <tr>\n",
       "      <th>1</th>\n",
       "      <td>industry_key</td>\n",
       "      <td>1</td>\n",
       "    </tr>\n",
       "    <tr>\n",
       "      <th>2</th>\n",
       "      <td>geography</td>\n",
       "      <td>2</td>\n",
       "    </tr>\n",
       "    <tr>\n",
       "      <th>3</th>\n",
       "      <td>most_common_browser</td>\n",
       "      <td>3</td>\n",
       "    </tr>\n",
       "    <tr>\n",
       "      <th>4</th>\n",
       "      <td>session_time_prior_month_seconds</td>\n",
       "      <td>4</td>\n",
       "    </tr>\n",
       "    <tr>\n",
       "      <th>5</th>\n",
       "      <td>prior_month_paid</td>\n",
       "      <td>5</td>\n",
       "    </tr>\n",
       "  </tbody>\n",
       "</table>\n",
       "</div>"
      ],
      "text/plain": [
       "                        column_name  position\n",
       "0                                id         0\n",
       "1                      industry_key         1\n",
       "2                         geography         2\n",
       "3               most_common_browser         3\n",
       "4  session_time_prior_month_seconds         4\n",
       "5                  prior_month_paid         5"
      ]
     },
     "execution_count": 6,
     "metadata": {},
     "output_type": "execute_result"
    }
   ],
   "source": [
    "columns"
   ]
  },
  {
   "cell_type": "code",
   "execution_count": 7,
   "metadata": {},
   "outputs": [],
   "source": [
    "industries = pd.read_csv('s3://moz-sr-data-analyst/industries.csv')"
   ]
  },
  {
   "cell_type": "code",
   "execution_count": 8,
   "metadata": {},
   "outputs": [
    {
     "data": {
      "text/html": [
       "<div>\n",
       "<style scoped>\n",
       "    .dataframe tbody tr th:only-of-type {\n",
       "        vertical-align: middle;\n",
       "    }\n",
       "\n",
       "    .dataframe tbody tr th {\n",
       "        vertical-align: top;\n",
       "    }\n",
       "\n",
       "    .dataframe thead th {\n",
       "        text-align: right;\n",
       "    }\n",
       "</style>\n",
       "<table border=\"1\" class=\"dataframe\">\n",
       "  <thead>\n",
       "    <tr style=\"text-align: right;\">\n",
       "      <th></th>\n",
       "      <th>0</th>\n",
       "      <th>1</th>\n",
       "      <th>2</th>\n",
       "      <th>3</th>\n",
       "      <th>4</th>\n",
       "      <th>5</th>\n",
       "      <th>6</th>\n",
       "      <th>7</th>\n",
       "      <th>8</th>\n",
       "      <th>9</th>\n",
       "      <th>10</th>\n",
       "    </tr>\n",
       "  </thead>\n",
       "  <tbody>\n",
       "    <tr>\n",
       "      <th>industry</th>\n",
       "      <td>Marketing Agency</td>\n",
       "      <td>NaN</td>\n",
       "      <td>NaN</td>\n",
       "      <td>health care</td>\n",
       "      <td>healthcare</td>\n",
       "      <td>marketing agency</td>\n",
       "      <td>mktg agency</td>\n",
       "      <td>NaN</td>\n",
       "      <td>software</td>\n",
       "      <td>unk</td>\n",
       "      <td>unknown</td>\n",
       "    </tr>\n",
       "    <tr>\n",
       "      <th>industry_key</th>\n",
       "      <td>5</td>\n",
       "      <td>9</td>\n",
       "      <td>10</td>\n",
       "      <td>1</td>\n",
       "      <td>2</td>\n",
       "      <td>4</td>\n",
       "      <td>3</td>\n",
       "      <td>11</td>\n",
       "      <td>6</td>\n",
       "      <td>8</td>\n",
       "      <td>7</td>\n",
       "    </tr>\n",
       "  </tbody>\n",
       "</table>\n",
       "</div>"
      ],
      "text/plain": [
       "                            0    1    2            3           4   \\\n",
       "industry      Marketing Agency  NaN  NaN  health care  healthcare   \n",
       "industry_key                 5    9   10            1           2   \n",
       "\n",
       "                            5            6    7         8    9        10  \n",
       "industry      marketing agency  mktg agency  NaN  software  unk  unknown  \n",
       "industry_key                 4            3   11         6    8        7  "
      ]
     },
     "execution_count": 8,
     "metadata": {},
     "output_type": "execute_result"
    }
   ],
   "source": [
    "industries.T"
   ]
  },
  {
   "cell_type": "code",
   "execution_count": 9,
   "metadata": {},
   "outputs": [],
   "source": [
    "industries = industries.replace(np.nan, 'Unknown', regex=True)"
   ]
  },
  {
   "cell_type": "code",
   "execution_count": 10,
   "metadata": {},
   "outputs": [],
   "source": [
    "industries['industry'] = industries['industry'].apply(lambda x: 'Healthcare' if 'care' in x \n",
    "                 else('Marketing Agency' if 'agency' in x\n",
    "                      else('Unknown' if 'unk' in x else x\n",
    "                      )))"
   ]
  },
  {
   "cell_type": "code",
   "execution_count": 11,
   "metadata": {},
   "outputs": [
    {
     "data": {
      "text/html": [
       "<div>\n",
       "<style scoped>\n",
       "    .dataframe tbody tr th:only-of-type {\n",
       "        vertical-align: middle;\n",
       "    }\n",
       "\n",
       "    .dataframe tbody tr th {\n",
       "        vertical-align: top;\n",
       "    }\n",
       "\n",
       "    .dataframe thead th {\n",
       "        text-align: right;\n",
       "    }\n",
       "</style>\n",
       "<table border=\"1\" class=\"dataframe\">\n",
       "  <thead>\n",
       "    <tr style=\"text-align: right;\">\n",
       "      <th></th>\n",
       "      <th>0</th>\n",
       "      <th>1</th>\n",
       "      <th>2</th>\n",
       "      <th>3</th>\n",
       "      <th>4</th>\n",
       "      <th>5</th>\n",
       "      <th>6</th>\n",
       "      <th>7</th>\n",
       "      <th>8</th>\n",
       "      <th>9</th>\n",
       "      <th>10</th>\n",
       "    </tr>\n",
       "  </thead>\n",
       "  <tbody>\n",
       "    <tr>\n",
       "      <th>industry</th>\n",
       "      <td>Marketing Agency</td>\n",
       "      <td>Unknown</td>\n",
       "      <td>Unknown</td>\n",
       "      <td>Healthcare</td>\n",
       "      <td>Healthcare</td>\n",
       "      <td>Marketing Agency</td>\n",
       "      <td>Marketing Agency</td>\n",
       "      <td>Unknown</td>\n",
       "      <td>software</td>\n",
       "      <td>Unknown</td>\n",
       "      <td>Unknown</td>\n",
       "    </tr>\n",
       "    <tr>\n",
       "      <th>industry_key</th>\n",
       "      <td>5</td>\n",
       "      <td>9</td>\n",
       "      <td>10</td>\n",
       "      <td>1</td>\n",
       "      <td>2</td>\n",
       "      <td>4</td>\n",
       "      <td>3</td>\n",
       "      <td>11</td>\n",
       "      <td>6</td>\n",
       "      <td>8</td>\n",
       "      <td>7</td>\n",
       "    </tr>\n",
       "  </tbody>\n",
       "</table>\n",
       "</div>"
      ],
      "text/plain": [
       "                            0        1        2           3           4   \\\n",
       "industry      Marketing Agency  Unknown  Unknown  Healthcare  Healthcare   \n",
       "industry_key                 5        9       10           1           2   \n",
       "\n",
       "                            5                 6        7         8        9   \\\n",
       "industry      Marketing Agency  Marketing Agency  Unknown  software  Unknown   \n",
       "industry_key                 4                 3       11         6        8   \n",
       "\n",
       "                   10  \n",
       "industry      Unknown  \n",
       "industry_key        7  "
      ]
     },
     "execution_count": 11,
     "metadata": {},
     "output_type": "execute_result"
    }
   ],
   "source": [
    "industries.T"
   ]
  },
  {
   "cell_type": "code",
   "execution_count": 12,
   "metadata": {},
   "outputs": [],
   "source": [
    "## case statement pandas to clean industry"
   ]
  },
  {
   "cell_type": "code",
   "execution_count": 13,
   "metadata": {},
   "outputs": [],
   "source": [
    "website_logins_1 = pq.read_table(source='s3://moz-sr-data-analyst/website_logins/partition=1/c529fa6a3c1c4f59a479cfe09fef95b1.parquet').to_pandas()\n",
    "website_logins_2 = pq.read_table(source='s3://moz-sr-data-analyst/website_logins/partition=2/d5cf97a41ef14917994cc133878208de.parquet').to_pandas() \n",
    "website_logins_3 = pq.read_table(source='s3://moz-sr-data-analyst/website_logins/partition=3/9c84cacb114c4aaa8c781306f4909b95.parquet').to_pandas()\n",
    "website_logins_4 = pq.read_table(source='s3://moz-sr-data-analyst/website_logins/partition=4/1c03d4bc41964861a1831e033254bd62.parquet').to_pandas()\n",
    "website_logins_5 = pq.read_table(source='s3://moz-sr-data-analyst/website_logins/partition=5/1d7a393aa9314fd78b6aab06171511f5.parquet').to_pandas()\n",
    "website_logins_6 = pq.read_table(source='s3://moz-sr-data-analyst/website_logins/partition=6/30655ffceadb43888f353a222399df75.parquet').to_pandas()"
   ]
  },
  {
   "cell_type": "code",
   "execution_count": 14,
   "metadata": {},
   "outputs": [
    {
     "data": {
      "text/html": [
       "<div>\n",
       "<style scoped>\n",
       "    .dataframe tbody tr th:only-of-type {\n",
       "        vertical-align: middle;\n",
       "    }\n",
       "\n",
       "    .dataframe tbody tr th {\n",
       "        vertical-align: top;\n",
       "    }\n",
       "\n",
       "    .dataframe thead th {\n",
       "        text-align: right;\n",
       "    }\n",
       "</style>\n",
       "<table border=\"1\" class=\"dataframe\">\n",
       "  <thead>\n",
       "    <tr style=\"text-align: right;\">\n",
       "      <th></th>\n",
       "      <th>0</th>\n",
       "      <th>1</th>\n",
       "      <th>2</th>\n",
       "      <th>3</th>\n",
       "      <th>4</th>\n",
       "      <th>5</th>\n",
       "    </tr>\n",
       "  </thead>\n",
       "  <tbody>\n",
       "    <tr>\n",
       "      <th>0</th>\n",
       "      <td>1418200166</td>\n",
       "      <td>2</td>\n",
       "      <td>America</td>\n",
       "      <td>IE</td>\n",
       "      <td>9493.0</td>\n",
       "      <td>128.252010</td>\n",
       "    </tr>\n",
       "    <tr>\n",
       "      <th>1</th>\n",
       "      <td>1418200174</td>\n",
       "      <td>8</td>\n",
       "      <td>UK</td>\n",
       "      <td>Chrome</td>\n",
       "      <td>3007.0</td>\n",
       "      <td>32.785887</td>\n",
       "    </tr>\n",
       "    <tr>\n",
       "      <th>2</th>\n",
       "      <td>1418200175</td>\n",
       "      <td>11</td>\n",
       "      <td>America</td>\n",
       "      <td>Chrome</td>\n",
       "      <td>NaN</td>\n",
       "      <td>80.574379</td>\n",
       "    </tr>\n",
       "    <tr>\n",
       "      <th>3</th>\n",
       "      <td>1418200179</td>\n",
       "      <td>3</td>\n",
       "      <td>US</td>\n",
       "      <td>Chrome</td>\n",
       "      <td>25.0</td>\n",
       "      <td>105.900000</td>\n",
       "    </tr>\n",
       "    <tr>\n",
       "      <th>4</th>\n",
       "      <td>1418200185</td>\n",
       "      <td>2</td>\n",
       "      <td>France</td>\n",
       "      <td>Safari</td>\n",
       "      <td>1210.0</td>\n",
       "      <td>47.969101</td>\n",
       "    </tr>\n",
       "  </tbody>\n",
       "</table>\n",
       "</div>"
      ],
      "text/plain": [
       "            0   1        2       3       4           5\n",
       "0  1418200166   2  America      IE  9493.0  128.252010\n",
       "1  1418200174   8       UK  Chrome  3007.0   32.785887\n",
       "2  1418200175  11  America  Chrome     NaN   80.574379\n",
       "3  1418200179   3       US  Chrome    25.0  105.900000\n",
       "4  1418200185   2   France  Safari  1210.0   47.969101"
      ]
     },
     "execution_count": 14,
     "metadata": {},
     "output_type": "execute_result"
    }
   ],
   "source": [
    "website_logins_3.head()"
   ]
  },
  {
   "cell_type": "code",
   "execution_count": 15,
   "metadata": {},
   "outputs": [],
   "source": [
    "website_logins = pd.concat([website_logins_1,website_logins_2, website_logins_3,website_logins_4,website_logins_5,website_logins_6] )"
   ]
  },
  {
   "cell_type": "code",
   "execution_count": 16,
   "metadata": {},
   "outputs": [],
   "source": [
    "website_logins.columns = columns.column_name"
   ]
  },
  {
   "cell_type": "code",
   "execution_count": 17,
   "metadata": {},
   "outputs": [
    {
     "data": {
      "text/html": [
       "<div>\n",
       "<style scoped>\n",
       "    .dataframe tbody tr th:only-of-type {\n",
       "        vertical-align: middle;\n",
       "    }\n",
       "\n",
       "    .dataframe tbody tr th {\n",
       "        vertical-align: top;\n",
       "    }\n",
       "\n",
       "    .dataframe thead th {\n",
       "        text-align: right;\n",
       "    }\n",
       "</style>\n",
       "<table border=\"1\" class=\"dataframe\">\n",
       "  <thead>\n",
       "    <tr style=\"text-align: right;\">\n",
       "      <th>column_name</th>\n",
       "      <th>id</th>\n",
       "      <th>industry_key</th>\n",
       "      <th>geography</th>\n",
       "      <th>most_common_browser</th>\n",
       "      <th>session_time_prior_month_seconds</th>\n",
       "      <th>prior_month_paid</th>\n",
       "    </tr>\n",
       "  </thead>\n",
       "  <tbody>\n",
       "    <tr>\n",
       "      <th>0</th>\n",
       "      <td>1418200170</td>\n",
       "      <td>1</td>\n",
       "      <td>US</td>\n",
       "      <td>IE</td>\n",
       "      <td>1682.0</td>\n",
       "      <td>105.932246</td>\n",
       "    </tr>\n",
       "    <tr>\n",
       "      <th>1</th>\n",
       "      <td>1418200182</td>\n",
       "      <td>4</td>\n",
       "      <td>Canada</td>\n",
       "      <td>Chrome</td>\n",
       "      <td>2824.0</td>\n",
       "      <td>117.570502</td>\n",
       "    </tr>\n",
       "    <tr>\n",
       "      <th>2</th>\n",
       "      <td>1418200189</td>\n",
       "      <td>4</td>\n",
       "      <td>Esp</td>\n",
       "      <td>IE</td>\n",
       "      <td>2236.0</td>\n",
       "      <td>77.349066</td>\n",
       "    </tr>\n",
       "    <tr>\n",
       "      <th>3</th>\n",
       "      <td>1418200194</td>\n",
       "      <td>2</td>\n",
       "      <td>Esp</td>\n",
       "      <td>Chrome</td>\n",
       "      <td>2480.0</td>\n",
       "      <td>48.719494</td>\n",
       "    </tr>\n",
       "    <tr>\n",
       "      <th>4</th>\n",
       "      <td>1418200206</td>\n",
       "      <td>5</td>\n",
       "      <td>United States</td>\n",
       "      <td>Chrome</td>\n",
       "      <td>285.0</td>\n",
       "      <td>113.691472</td>\n",
       "    </tr>\n",
       "  </tbody>\n",
       "</table>\n",
       "</div>"
      ],
      "text/plain": [
       "column_name          id industry_key      geography most_common_browser  \\\n",
       "0            1418200170            1             US                  IE   \n",
       "1            1418200182            4         Canada              Chrome   \n",
       "2            1418200189            4            Esp                  IE   \n",
       "3            1418200194            2            Esp              Chrome   \n",
       "4            1418200206            5  United States              Chrome   \n",
       "\n",
       "column_name  session_time_prior_month_seconds  prior_month_paid  \n",
       "0                                      1682.0        105.932246  \n",
       "1                                      2824.0        117.570502  \n",
       "2                                      2236.0         77.349066  \n",
       "3                                      2480.0         48.719494  \n",
       "4                                       285.0        113.691472  "
      ]
     },
     "execution_count": 17,
     "metadata": {},
     "output_type": "execute_result"
    }
   ],
   "source": [
    "website_logins.head()"
   ]
  },
  {
   "cell_type": "code",
   "execution_count": 18,
   "metadata": {},
   "outputs": [
    {
     "name": "stdout",
     "output_type": "stream",
     "text": [
      "<class 'pandas.core.frame.DataFrame'>\n",
      "Int64Index: 13014636 entries, 0 to 2167129\n",
      "Data columns (total 6 columns):\n",
      " #   Column                            Dtype  \n",
      "---  ------                            -----  \n",
      " 0   id                                int64  \n",
      " 1   industry_key                      object \n",
      " 2   geography                         object \n",
      " 3   most_common_browser               object \n",
      " 4   session_time_prior_month_seconds  float64\n",
      " 5   prior_month_paid                  float64\n",
      "dtypes: float64(2), int64(1), object(3)\n",
      "memory usage: 695.1+ MB\n"
     ]
    }
   ],
   "source": [
    "website_logins.info()"
   ]
  },
  {
   "cell_type": "code",
   "execution_count": 19,
   "metadata": {},
   "outputs": [
    {
     "name": "stdout",
     "output_type": "stream",
     "text": [
      "<class 'pandas.core.frame.DataFrame'>\n",
      "RangeIndex: 11 entries, 0 to 10\n",
      "Data columns (total 2 columns):\n",
      " #   Column        Non-Null Count  Dtype \n",
      "---  ------        --------------  ----- \n",
      " 0   industry      11 non-null     object\n",
      " 1   industry_key  11 non-null     int64 \n",
      "dtypes: int64(1), object(1)\n",
      "memory usage: 304.0+ bytes\n"
     ]
    }
   ],
   "source": [
    "industries.info()"
   ]
  },
  {
   "cell_type": "code",
   "execution_count": 20,
   "metadata": {},
   "outputs": [],
   "source": [
    "industries = industries.astype({'industry_key': str})"
   ]
  },
  {
   "cell_type": "code",
   "execution_count": 21,
   "metadata": {},
   "outputs": [],
   "source": [
    "website_logins=website_logins.merge(industries, left_on='industry_key', right_on='industry_key')"
   ]
  },
  {
   "cell_type": "code",
   "execution_count": 22,
   "metadata": {},
   "outputs": [
    {
     "data": {
      "text/html": [
       "<div>\n",
       "<style scoped>\n",
       "    .dataframe tbody tr th:only-of-type {\n",
       "        vertical-align: middle;\n",
       "    }\n",
       "\n",
       "    .dataframe tbody tr th {\n",
       "        vertical-align: top;\n",
       "    }\n",
       "\n",
       "    .dataframe thead th {\n",
       "        text-align: right;\n",
       "    }\n",
       "</style>\n",
       "<table border=\"1\" class=\"dataframe\">\n",
       "  <thead>\n",
       "    <tr style=\"text-align: right;\">\n",
       "      <th></th>\n",
       "      <th>id</th>\n",
       "      <th>industry_key</th>\n",
       "      <th>geography</th>\n",
       "      <th>most_common_browser</th>\n",
       "      <th>session_time_prior_month_seconds</th>\n",
       "      <th>prior_month_paid</th>\n",
       "      <th>industry</th>\n",
       "    </tr>\n",
       "  </thead>\n",
       "  <tbody>\n",
       "    <tr>\n",
       "      <th>0</th>\n",
       "      <td>1418200170</td>\n",
       "      <td>1</td>\n",
       "      <td>US</td>\n",
       "      <td>IE</td>\n",
       "      <td>1682.0</td>\n",
       "      <td>105.932246</td>\n",
       "      <td>Healthcare</td>\n",
       "    </tr>\n",
       "    <tr>\n",
       "      <th>1</th>\n",
       "      <td>1418200258</td>\n",
       "      <td>1</td>\n",
       "      <td>Greece</td>\n",
       "      <td>Safari</td>\n",
       "      <td>4808.0</td>\n",
       "      <td>57.648758</td>\n",
       "      <td>Healthcare</td>\n",
       "    </tr>\n",
       "    <tr>\n",
       "      <th>2</th>\n",
       "      <td>1418200271</td>\n",
       "      <td>1</td>\n",
       "      <td>Canada</td>\n",
       "      <td>Safari</td>\n",
       "      <td>NaN</td>\n",
       "      <td>93.919066</td>\n",
       "      <td>Healthcare</td>\n",
       "    </tr>\n",
       "    <tr>\n",
       "      <th>3</th>\n",
       "      <td>1418200295</td>\n",
       "      <td>1</td>\n",
       "      <td>CA</td>\n",
       "      <td>Chrome</td>\n",
       "      <td>3687.0</td>\n",
       "      <td>95.194390</td>\n",
       "      <td>Healthcare</td>\n",
       "    </tr>\n",
       "    <tr>\n",
       "      <th>4</th>\n",
       "      <td>1418200376</td>\n",
       "      <td>1</td>\n",
       "      <td>Greece</td>\n",
       "      <td>Safari</td>\n",
       "      <td>1228.0</td>\n",
       "      <td>40.419101</td>\n",
       "      <td>Healthcare</td>\n",
       "    </tr>\n",
       "  </tbody>\n",
       "</table>\n",
       "</div>"
      ],
      "text/plain": [
       "           id industry_key geography most_common_browser  \\\n",
       "0  1418200170            1        US                  IE   \n",
       "1  1418200258            1    Greece              Safari   \n",
       "2  1418200271            1    Canada              Safari   \n",
       "3  1418200295            1        CA              Chrome   \n",
       "4  1418200376            1    Greece              Safari   \n",
       "\n",
       "   session_time_prior_month_seconds  prior_month_paid    industry  \n",
       "0                            1682.0        105.932246  Healthcare  \n",
       "1                            4808.0         57.648758  Healthcare  \n",
       "2                               NaN         93.919066  Healthcare  \n",
       "3                            3687.0         95.194390  Healthcare  \n",
       "4                            1228.0         40.419101  Healthcare  "
      ]
     },
     "execution_count": 22,
     "metadata": {},
     "output_type": "execute_result"
    }
   ],
   "source": [
    "website_logins.head()"
   ]
  },
  {
   "cell_type": "code",
   "execution_count": 23,
   "metadata": {},
   "outputs": [
    {
     "data": {
      "text/html": [
       "<div>\n",
       "<style scoped>\n",
       "    .dataframe tbody tr th:only-of-type {\n",
       "        vertical-align: middle;\n",
       "    }\n",
       "\n",
       "    .dataframe tbody tr th {\n",
       "        vertical-align: top;\n",
       "    }\n",
       "\n",
       "    .dataframe thead th {\n",
       "        text-align: right;\n",
       "    }\n",
       "</style>\n",
       "<table border=\"1\" class=\"dataframe\">\n",
       "  <thead>\n",
       "    <tr style=\"text-align: right;\">\n",
       "      <th></th>\n",
       "      <th>id</th>\n",
       "      <th>industry_key</th>\n",
       "      <th>geography</th>\n",
       "      <th>most_common_browser</th>\n",
       "      <th>session_time_prior_month_seconds</th>\n",
       "      <th>prior_month_paid</th>\n",
       "      <th>industry</th>\n",
       "    </tr>\n",
       "  </thead>\n",
       "  <tbody>\n",
       "    <tr>\n",
       "      <th>0</th>\n",
       "      <td>1418200170</td>\n",
       "      <td>1</td>\n",
       "      <td>US</td>\n",
       "      <td>IE</td>\n",
       "      <td>1682.0</td>\n",
       "      <td>105.932246</td>\n",
       "      <td>Healthcare</td>\n",
       "    </tr>\n",
       "    <tr>\n",
       "      <th>1</th>\n",
       "      <td>1418200258</td>\n",
       "      <td>1</td>\n",
       "      <td>Greece</td>\n",
       "      <td>Safari</td>\n",
       "      <td>4808.0</td>\n",
       "      <td>57.648758</td>\n",
       "      <td>Healthcare</td>\n",
       "    </tr>\n",
       "    <tr>\n",
       "      <th>2</th>\n",
       "      <td>1418200271</td>\n",
       "      <td>1</td>\n",
       "      <td>Canada</td>\n",
       "      <td>Safari</td>\n",
       "      <td>NaN</td>\n",
       "      <td>93.919066</td>\n",
       "      <td>Healthcare</td>\n",
       "    </tr>\n",
       "    <tr>\n",
       "      <th>3</th>\n",
       "      <td>1418200295</td>\n",
       "      <td>1</td>\n",
       "      <td>CA</td>\n",
       "      <td>Chrome</td>\n",
       "      <td>3687.0</td>\n",
       "      <td>95.194390</td>\n",
       "      <td>Healthcare</td>\n",
       "    </tr>\n",
       "    <tr>\n",
       "      <th>4</th>\n",
       "      <td>1418200376</td>\n",
       "      <td>1</td>\n",
       "      <td>Greece</td>\n",
       "      <td>Safari</td>\n",
       "      <td>1228.0</td>\n",
       "      <td>40.419101</td>\n",
       "      <td>Healthcare</td>\n",
       "    </tr>\n",
       "  </tbody>\n",
       "</table>\n",
       "</div>"
      ],
      "text/plain": [
       "           id industry_key geography most_common_browser  \\\n",
       "0  1418200170            1        US                  IE   \n",
       "1  1418200258            1    Greece              Safari   \n",
       "2  1418200271            1    Canada              Safari   \n",
       "3  1418200295            1        CA              Chrome   \n",
       "4  1418200376            1    Greece              Safari   \n",
       "\n",
       "   session_time_prior_month_seconds  prior_month_paid    industry  \n",
       "0                            1682.0        105.932246  Healthcare  \n",
       "1                            4808.0         57.648758  Healthcare  \n",
       "2                               NaN         93.919066  Healthcare  \n",
       "3                            3687.0         95.194390  Healthcare  \n",
       "4                            1228.0         40.419101  Healthcare  "
      ]
     },
     "execution_count": 23,
     "metadata": {},
     "output_type": "execute_result"
    }
   ],
   "source": [
    "website_logins.head()"
   ]
  },
  {
   "cell_type": "code",
   "execution_count": 24,
   "metadata": {},
   "outputs": [
    {
     "data": {
      "text/html": [
       "<div>\n",
       "<style scoped>\n",
       "    .dataframe tbody tr th:only-of-type {\n",
       "        vertical-align: middle;\n",
       "    }\n",
       "\n",
       "    .dataframe tbody tr th {\n",
       "        vertical-align: top;\n",
       "    }\n",
       "\n",
       "    .dataframe thead th {\n",
       "        text-align: right;\n",
       "    }\n",
       "</style>\n",
       "<table border=\"1\" class=\"dataframe\">\n",
       "  <thead>\n",
       "    <tr style=\"text-align: right;\">\n",
       "      <th></th>\n",
       "      <th>id</th>\n",
       "      <th>industry_key</th>\n",
       "      <th>most_common_browser</th>\n",
       "      <th>session_time_prior_month_seconds</th>\n",
       "      <th>prior_month_paid</th>\n",
       "      <th>industry</th>\n",
       "    </tr>\n",
       "    <tr>\n",
       "      <th>geography</th>\n",
       "      <th></th>\n",
       "      <th></th>\n",
       "      <th></th>\n",
       "      <th></th>\n",
       "      <th></th>\n",
       "      <th></th>\n",
       "    </tr>\n",
       "  </thead>\n",
       "  <tbody>\n",
       "    <tr>\n",
       "      <th>America</th>\n",
       "      <td>1157894</td>\n",
       "      <td>1157894</td>\n",
       "      <td>1157894</td>\n",
       "      <td>1123230</td>\n",
       "      <td>1157894</td>\n",
       "      <td>1157894</td>\n",
       "    </tr>\n",
       "    <tr>\n",
       "      <th>CA</th>\n",
       "      <td>1446411</td>\n",
       "      <td>1446411</td>\n",
       "      <td>1446411</td>\n",
       "      <td>1402753</td>\n",
       "      <td>1446411</td>\n",
       "      <td>1446411</td>\n",
       "    </tr>\n",
       "    <tr>\n",
       "      <th>Canada</th>\n",
       "      <td>1446297</td>\n",
       "      <td>1446297</td>\n",
       "      <td>1446297</td>\n",
       "      <td>1402485</td>\n",
       "      <td>1446297</td>\n",
       "      <td>1446297</td>\n",
       "    </tr>\n",
       "    <tr>\n",
       "      <th>England</th>\n",
       "      <td>289222</td>\n",
       "      <td>289222</td>\n",
       "      <td>289222</td>\n",
       "      <td>280747</td>\n",
       "      <td>289222</td>\n",
       "      <td>289222</td>\n",
       "    </tr>\n",
       "    <tr>\n",
       "      <th>Esp</th>\n",
       "      <td>482938</td>\n",
       "      <td>482938</td>\n",
       "      <td>482938</td>\n",
       "      <td>468525</td>\n",
       "      <td>482938</td>\n",
       "      <td>482938</td>\n",
       "    </tr>\n",
       "    <tr>\n",
       "      <th>France</th>\n",
       "      <td>482339</td>\n",
       "      <td>482339</td>\n",
       "      <td>482339</td>\n",
       "      <td>467890</td>\n",
       "      <td>482339</td>\n",
       "      <td>482339</td>\n",
       "    </tr>\n",
       "    <tr>\n",
       "      <th>GB</th>\n",
       "      <td>289559</td>\n",
       "      <td>289559</td>\n",
       "      <td>289559</td>\n",
       "      <td>280869</td>\n",
       "      <td>289559</td>\n",
       "      <td>289559</td>\n",
       "    </tr>\n",
       "    <tr>\n",
       "      <th>Greece</th>\n",
       "      <td>482340</td>\n",
       "      <td>482340</td>\n",
       "      <td>482340</td>\n",
       "      <td>467785</td>\n",
       "      <td>482340</td>\n",
       "      <td>482340</td>\n",
       "    </tr>\n",
       "    <tr>\n",
       "      <th>India</th>\n",
       "      <td>482437</td>\n",
       "      <td>482437</td>\n",
       "      <td>482437</td>\n",
       "      <td>467875</td>\n",
       "      <td>482437</td>\n",
       "      <td>482437</td>\n",
       "    </tr>\n",
       "    <tr>\n",
       "      <th>Pakistan</th>\n",
       "      <td>481334</td>\n",
       "      <td>481334</td>\n",
       "      <td>481334</td>\n",
       "      <td>466953</td>\n",
       "      <td>481334</td>\n",
       "      <td>481334</td>\n",
       "    </tr>\n",
       "    <tr>\n",
       "      <th>Spain</th>\n",
       "      <td>482038</td>\n",
       "      <td>482038</td>\n",
       "      <td>482038</td>\n",
       "      <td>467538</td>\n",
       "      <td>482038</td>\n",
       "      <td>482038</td>\n",
       "    </tr>\n",
       "    <tr>\n",
       "      <th>UK</th>\n",
       "      <td>577807</td>\n",
       "      <td>577807</td>\n",
       "      <td>577807</td>\n",
       "      <td>560614</td>\n",
       "      <td>577807</td>\n",
       "      <td>577807</td>\n",
       "    </tr>\n",
       "    <tr>\n",
       "      <th>US</th>\n",
       "      <td>1155546</td>\n",
       "      <td>1155546</td>\n",
       "      <td>1155546</td>\n",
       "      <td>1121301</td>\n",
       "      <td>1155546</td>\n",
       "      <td>1155546</td>\n",
       "    </tr>\n",
       "    <tr>\n",
       "      <th>USA</th>\n",
       "      <td>2311538</td>\n",
       "      <td>2311538</td>\n",
       "      <td>2311538</td>\n",
       "      <td>2242254</td>\n",
       "      <td>2311538</td>\n",
       "      <td>2311538</td>\n",
       "    </tr>\n",
       "    <tr>\n",
       "      <th>United Kingdom</th>\n",
       "      <td>289326</td>\n",
       "      <td>289326</td>\n",
       "      <td>289326</td>\n",
       "      <td>280620</td>\n",
       "      <td>289326</td>\n",
       "      <td>289326</td>\n",
       "    </tr>\n",
       "    <tr>\n",
       "      <th>United States</th>\n",
       "      <td>1157610</td>\n",
       "      <td>1157610</td>\n",
       "      <td>1157610</td>\n",
       "      <td>1122664</td>\n",
       "      <td>1157610</td>\n",
       "      <td>1157610</td>\n",
       "    </tr>\n",
       "  </tbody>\n",
       "</table>\n",
       "</div>"
      ],
      "text/plain": [
       "                     id  industry_key  most_common_browser  \\\n",
       "geography                                                    \n",
       "America         1157894       1157894              1157894   \n",
       "CA              1446411       1446411              1446411   \n",
       "Canada          1446297       1446297              1446297   \n",
       "England          289222        289222               289222   \n",
       "Esp              482938        482938               482938   \n",
       "France           482339        482339               482339   \n",
       "GB               289559        289559               289559   \n",
       "Greece           482340        482340               482340   \n",
       "India            482437        482437               482437   \n",
       "Pakistan         481334        481334               481334   \n",
       "Spain            482038        482038               482038   \n",
       "UK               577807        577807               577807   \n",
       "US              1155546       1155546              1155546   \n",
       "USA             2311538       2311538              2311538   \n",
       "United Kingdom   289326        289326               289326   \n",
       "United States   1157610       1157610              1157610   \n",
       "\n",
       "                session_time_prior_month_seconds  prior_month_paid  industry  \n",
       "geography                                                                     \n",
       "America                                  1123230           1157894   1157894  \n",
       "CA                                       1402753           1446411   1446411  \n",
       "Canada                                   1402485           1446297   1446297  \n",
       "England                                   280747            289222    289222  \n",
       "Esp                                       468525            482938    482938  \n",
       "France                                    467890            482339    482339  \n",
       "GB                                        280869            289559    289559  \n",
       "Greece                                    467785            482340    482340  \n",
       "India                                     467875            482437    482437  \n",
       "Pakistan                                  466953            481334    481334  \n",
       "Spain                                     467538            482038    482038  \n",
       "UK                                        560614            577807    577807  \n",
       "US                                       1121301           1155546   1155546  \n",
       "USA                                      2242254           2311538   2311538  \n",
       "United Kingdom                            280620            289326    289326  \n",
       "United States                            1122664           1157610   1157610  "
      ]
     },
     "execution_count": 24,
     "metadata": {},
     "output_type": "execute_result"
    }
   ],
   "source": [
    "website_logins.groupby('geography').count()"
   ]
  },
  {
   "cell_type": "code",
   "execution_count": 25,
   "metadata": {},
   "outputs": [],
   "source": [
    "website_logins['geography'] = website_logins['geography'].apply(lambda x: 'United States' if x in ('US', 'USA', 'United States', 'America')\n",
    "                                 else('Canada' if x in ('CA', 'Canada')\n",
    "                                      else('United Kingdom' if x in ('GB', 'UK', 'United Kingdom', 'England')\n",
    "                                          else ('Spain' if x in ('Esp', 'Spain')\n",
    "                                               else x\n",
    "                                               ))))"
   ]
  },
  {
   "cell_type": "code",
   "execution_count": 26,
   "metadata": {},
   "outputs": [
    {
     "data": {
      "text/plain": [
       "-32768.0"
      ]
     },
     "execution_count": 26,
     "metadata": {},
     "output_type": "execute_result"
    }
   ],
   "source": [
    "website_logins['prior_month_paid'].min()"
   ]
  },
  {
   "cell_type": "code",
   "execution_count": 27,
   "metadata": {},
   "outputs": [
    {
     "data": {
      "text/plain": [
       "0.01"
      ]
     },
     "execution_count": 27,
     "metadata": {},
     "output_type": "execute_result"
    }
   ],
   "source": [
    "website_logins[website_logins['prior_month_paid'] > -32768]['prior_month_paid'].min()"
   ]
  },
  {
   "cell_type": "code",
   "execution_count": 28,
   "metadata": {},
   "outputs": [
    {
     "data": {
      "text/html": [
       "<div>\n",
       "<style scoped>\n",
       "    .dataframe tbody tr th:only-of-type {\n",
       "        vertical-align: middle;\n",
       "    }\n",
       "\n",
       "    .dataframe tbody tr th {\n",
       "        vertical-align: top;\n",
       "    }\n",
       "\n",
       "    .dataframe thead th {\n",
       "        text-align: right;\n",
       "    }\n",
       "</style>\n",
       "<table border=\"1\" class=\"dataframe\">\n",
       "  <thead>\n",
       "    <tr style=\"text-align: right;\">\n",
       "      <th></th>\n",
       "      <th>id</th>\n",
       "      <th>geography</th>\n",
       "      <th>most_common_browser</th>\n",
       "      <th>session_time_prior_month_seconds</th>\n",
       "      <th>prior_month_paid</th>\n",
       "      <th>industry</th>\n",
       "    </tr>\n",
       "    <tr>\n",
       "      <th>industry_key</th>\n",
       "      <th></th>\n",
       "      <th></th>\n",
       "      <th></th>\n",
       "      <th></th>\n",
       "      <th></th>\n",
       "      <th></th>\n",
       "    </tr>\n",
       "  </thead>\n",
       "  <tbody>\n",
       "    <tr>\n",
       "      <th>1</th>\n",
       "      <td>16072</td>\n",
       "      <td>16072</td>\n",
       "      <td>16072</td>\n",
       "      <td>16072</td>\n",
       "      <td>16072</td>\n",
       "      <td>16072</td>\n",
       "    </tr>\n",
       "    <tr>\n",
       "      <th>10</th>\n",
       "      <td>6345</td>\n",
       "      <td>6345</td>\n",
       "      <td>6345</td>\n",
       "      <td>6345</td>\n",
       "      <td>6345</td>\n",
       "      <td>6345</td>\n",
       "    </tr>\n",
       "    <tr>\n",
       "      <th>11</th>\n",
       "      <td>6455</td>\n",
       "      <td>6455</td>\n",
       "      <td>6455</td>\n",
       "      <td>6455</td>\n",
       "      <td>6455</td>\n",
       "      <td>6455</td>\n",
       "    </tr>\n",
       "    <tr>\n",
       "      <th>2</th>\n",
       "      <td>16418</td>\n",
       "      <td>16418</td>\n",
       "      <td>16418</td>\n",
       "      <td>16418</td>\n",
       "      <td>16418</td>\n",
       "      <td>16418</td>\n",
       "    </tr>\n",
       "    <tr>\n",
       "      <th>3</th>\n",
       "      <td>16095</td>\n",
       "      <td>16095</td>\n",
       "      <td>16095</td>\n",
       "      <td>16095</td>\n",
       "      <td>16095</td>\n",
       "      <td>16095</td>\n",
       "    </tr>\n",
       "    <tr>\n",
       "      <th>4</th>\n",
       "      <td>16096</td>\n",
       "      <td>16096</td>\n",
       "      <td>16096</td>\n",
       "      <td>16096</td>\n",
       "      <td>16096</td>\n",
       "      <td>16096</td>\n",
       "    </tr>\n",
       "    <tr>\n",
       "      <th>5</th>\n",
       "      <td>16316</td>\n",
       "      <td>16316</td>\n",
       "      <td>16316</td>\n",
       "      <td>16316</td>\n",
       "      <td>16316</td>\n",
       "      <td>16316</td>\n",
       "    </tr>\n",
       "    <tr>\n",
       "      <th>6</th>\n",
       "      <td>16271</td>\n",
       "      <td>16271</td>\n",
       "      <td>16271</td>\n",
       "      <td>16271</td>\n",
       "      <td>16271</td>\n",
       "      <td>16271</td>\n",
       "    </tr>\n",
       "    <tr>\n",
       "      <th>7</th>\n",
       "      <td>6561</td>\n",
       "      <td>6561</td>\n",
       "      <td>6561</td>\n",
       "      <td>6561</td>\n",
       "      <td>6561</td>\n",
       "      <td>6561</td>\n",
       "    </tr>\n",
       "    <tr>\n",
       "      <th>8</th>\n",
       "      <td>6499</td>\n",
       "      <td>6499</td>\n",
       "      <td>6499</td>\n",
       "      <td>6499</td>\n",
       "      <td>6499</td>\n",
       "      <td>6499</td>\n",
       "    </tr>\n",
       "    <tr>\n",
       "      <th>9</th>\n",
       "      <td>6428</td>\n",
       "      <td>6428</td>\n",
       "      <td>6428</td>\n",
       "      <td>6428</td>\n",
       "      <td>6428</td>\n",
       "      <td>6428</td>\n",
       "    </tr>\n",
       "  </tbody>\n",
       "</table>\n",
       "</div>"
      ],
      "text/plain": [
       "                 id  geography  most_common_browser  \\\n",
       "industry_key                                          \n",
       "1             16072      16072                16072   \n",
       "10             6345       6345                 6345   \n",
       "11             6455       6455                 6455   \n",
       "2             16418      16418                16418   \n",
       "3             16095      16095                16095   \n",
       "4             16096      16096                16096   \n",
       "5             16316      16316                16316   \n",
       "6             16271      16271                16271   \n",
       "7              6561       6561                 6561   \n",
       "8              6499       6499                 6499   \n",
       "9              6428       6428                 6428   \n",
       "\n",
       "              session_time_prior_month_seconds  prior_month_paid  industry  \n",
       "industry_key                                                                \n",
       "1                                        16072             16072     16072  \n",
       "10                                        6345              6345      6345  \n",
       "11                                        6455              6455      6455  \n",
       "2                                        16418             16418     16418  \n",
       "3                                        16095             16095     16095  \n",
       "4                                        16096             16096     16096  \n",
       "5                                        16316             16316     16316  \n",
       "6                                        16271             16271     16271  \n",
       "7                                         6561              6561      6561  \n",
       "8                                         6499              6499      6499  \n",
       "9                                         6428              6428      6428  "
      ]
     },
     "execution_count": 28,
     "metadata": {},
     "output_type": "execute_result"
    }
   ],
   "source": [
    "website_logins[website_logins['prior_month_paid'] == -32768.0].groupby('industry_key').count()"
   ]
  },
  {
   "cell_type": "code",
   "execution_count": 29,
   "metadata": {},
   "outputs": [
    {
     "data": {
      "text/plain": [
       "<matplotlib.axes._subplots.AxesSubplot at 0x12a3d2f90>"
      ]
     },
     "execution_count": 29,
     "metadata": {},
     "output_type": "execute_result"
    },
    {
     "data": {
      "image/png": "[encoded data removed]",
      "text/plain": [
       "<Figure size 432x288 with 1 Axes>"
      ]
     },
     "metadata": {
      "needs_background": "light"
     },
     "output_type": "display_data"
    }
   ],
   "source": [
    "website_logins['prior_month_paid'].hist(bins = 30)"
   ]
  },
  {
   "cell_type": "code",
   "execution_count": 30,
   "metadata": {},
   "outputs": [],
   "source": [
    "website_logins = website_logins[website_logins['prior_month_paid'] > 0]"
   ]
  },
  {
   "cell_type": "code",
   "execution_count": 31,
   "metadata": {},
   "outputs": [
    {
     "data": {
      "text/plain": [
       "<matplotlib.axes._subplots.AxesSubplot at 0x12b81d190>"
      ]
     },
     "execution_count": 31,
     "metadata": {},
     "output_type": "execute_result"
    },
    {
     "data": {
      "image/png": "[encoded data removed]",
      "text/plain": [
       "<Figure size 432x288 with 1 Axes>"
      ]
     },
     "metadata": {
      "needs_background": "light"
     },
     "output_type": "display_data"
    }
   ],
   "source": [
    "website_logins['prior_month_paid'].hist(bins = 30)"
   ]
  },
  {
   "cell_type": "code",
   "execution_count": 32,
   "metadata": {},
   "outputs": [
    {
     "data": {
      "text/plain": [
       "235003.0"
      ]
     },
     "execution_count": 32,
     "metadata": {},
     "output_type": "execute_result"
    }
   ],
   "source": [
    "website_logins['session_time_prior_month_seconds'].max()"
   ]
  },
  {
   "cell_type": "code",
   "execution_count": 33,
   "metadata": {},
   "outputs": [
    {
     "data": {
      "text/html": [
       "<div>\n",
       "<style scoped>\n",
       "    .dataframe tbody tr th:only-of-type {\n",
       "        vertical-align: middle;\n",
       "    }\n",
       "\n",
       "    .dataframe tbody tr th {\n",
       "        vertical-align: top;\n",
       "    }\n",
       "\n",
       "    .dataframe thead th {\n",
       "        text-align: right;\n",
       "    }\n",
       "</style>\n",
       "<table border=\"1\" class=\"dataframe\">\n",
       "  <thead>\n",
       "    <tr style=\"text-align: right;\">\n",
       "      <th></th>\n",
       "      <th>id</th>\n",
       "      <th>industry_key</th>\n",
       "      <th>geography</th>\n",
       "      <th>most_common_browser</th>\n",
       "      <th>session_time_prior_month_seconds</th>\n",
       "      <th>prior_month_paid</th>\n",
       "      <th>industry</th>\n",
       "    </tr>\n",
       "  </thead>\n",
       "  <tbody>\n",
       "    <tr>\n",
       "      <th>4836408</th>\n",
       "      <td>1429139583</td>\n",
       "      <td>2</td>\n",
       "      <td>Canada</td>\n",
       "      <td>Safari</td>\n",
       "      <td>235003.0</td>\n",
       "      <td>141.228741</td>\n",
       "      <td>Healthcare</td>\n",
       "    </tr>\n",
       "  </tbody>\n",
       "</table>\n",
       "</div>"
      ],
      "text/plain": [
       "                 id industry_key geography most_common_browser  \\\n",
       "4836408  1429139583            2    Canada              Safari   \n",
       "\n",
       "         session_time_prior_month_seconds  prior_month_paid    industry  \n",
       "4836408                          235003.0        141.228741  Healthcare  "
      ]
     },
     "execution_count": 33,
     "metadata": {},
     "output_type": "execute_result"
    }
   ],
   "source": [
    "website_logins[website_logins['session_time_prior_month_seconds'] ==235003.0]"
   ]
  },
  {
   "cell_type": "code",
   "execution_count": 34,
   "metadata": {},
   "outputs": [
    {
     "data": {
      "text/plain": [
       "<matplotlib.axes._subplots.AxesSubplot at 0x12b94f690>"
      ]
     },
     "execution_count": 34,
     "metadata": {},
     "output_type": "execute_result"
    },
    {
     "data": {
      "image/png": "[encoded data removed]",
      "text/plain": [
       "<Figure size 432x288 with 1 Axes>"
      ]
     },
     "metadata": {
      "needs_background": "light"
     },
     "output_type": "display_data"
    }
   ],
   "source": [
    "website_logins[website_logins['session_time_prior_month_seconds'] < 12500]['session_time_prior_month_seconds'].hist(bins=100)"
   ]
  },
  {
   "cell_type": "code",
   "execution_count": 35,
   "metadata": {},
   "outputs": [
    {
     "data": {
      "text/plain": [
       "<matplotlib.axes._subplots.AxesSubplot at 0x12b9d1e50>"
      ]
     },
     "execution_count": 35,
     "metadata": {},
     "output_type": "execute_result"
    },
    {
     "data": {
      "image/png": "[encoded data removed]",
      "text/plain": [
       "<Figure size 432x288 with 1 Axes>"
      ]
     },
     "metadata": {
      "needs_background": "light"
     },
     "output_type": "display_data"
    }
   ],
   "source": [
    "website_logins.plot.scatter(x='session_time_prior_month_seconds',\n",
    "                            y='prior_month_paid')"
   ]
  },
  {
   "cell_type": "markdown",
   "metadata": {},
   "source": [
    "### Export Data as CSV file"
   ]
  },
  {
   "cell_type": "code",
   "execution_count": 36,
   "metadata": {},
   "outputs": [],
   "source": [
    "cwd = os.getcwd()"
   ]
  },
  {
   "cell_type": "code",
   "execution_count": 37,
   "metadata": {},
   "outputs": [],
   "source": [
    "website_logins.to_csv(os.path.join(cwd, \"website_logins.csv\"))"
   ]
  },
  {
   "cell_type": "markdown",
   "metadata": {},
   "source": [
    "#### Data Cleaning Done"
   ]
  },
  {
   "cell_type": "markdown",
   "metadata": {},
   "source": [
    "- Combining the all the login data into one filem, and adding the column names. Joining to the industries table to get the industry name from the key\n",
    "- Cleaning country names and industry names to reduce duplication of categories based on variation resulting from data collection \n",
    "- Limited data set to where prior month paid was > 0. The amounts less than 0 could be data collection errors, or perhaps some kind of credit given to users but making the assumption that it's okay to exclude these rows out for the purpose of this analysis"
   ]
  },
  {
   "cell_type": "markdown",
   "metadata": {},
   "source": [
    "#### What information about a user seems to be informative about how much they paid in the prior month?"
   ]
  },
  {
   "cell_type": "markdown",
   "metadata": {},
   "source": [
    "- The industry and region where a user is located seems to be most correlation with how much a user paid in the previous month"
   ]
  },
  {
   "cell_type": "markdown",
   "metadata": {},
   "source": [
    "#### Which segment of customers should Moz target for marketing?"
   ]
  },
  {
   "cell_type": "markdown",
   "metadata": {},
   "source": [
    "- There is an opportunity to acquire more users in the software industry. The users in this group are very profitable in terms of amount paid per user and also make up the smallest number of users in this data set. \n",
    "- Acquire more users in the marketing agency space if not already oversaturated "
   ]
  },
  {
   "cell_type": "markdown",
   "metadata": {},
   "source": [
    "#### What would your recommended next steps for the business be?"
   ]
  },
  {
   "cell_type": "markdown",
   "metadata": {},
   "source": [
    "- In addition to acquiring more users in the existing categoriesm there's also an opportunity to test pricing changes for existing categories and countries, for example increasing the cost per second/user in the software and healthcare industry"
   ]
  },
  {
   "cell_type": "markdown",
   "metadata": {},
   "source": [
    "#### As an analyst, is there additional data you would recommend collecting about these users?"
   ]
  },
  {
   "cell_type": "markdown",
   "metadata": {},
   "source": [
    "- There is a lot of missing industry data. Would suggest collecting more comprehensive data as there is a high correlation between industry and how much a user pays. \n",
    "- Additionally would recommend collecting sub-category at the industry or regional data if available to see if the correlations are higher for one particular area. \n",
    "- Might be interesting to look at user role/department given the high correlation between amount paid and industry"
   ]
  },
  {
   "cell_type": "code",
   "execution_count": null,
   "metadata": {},
   "outputs": [],
   "source": []
  }
 ],
 "metadata": {
  "kernelspec": {
   "display_name": "Python 3",
   "language": "python",
   "name": "python3"
  },
  "language_info": {
   "codemirror_mode": {
    "name": "ipython",
    "version": 3
   },
   "file_extension": ".py",
   "mimetype": "text/x-python",
   "name": "python",
   "nbconvert_exporter": "python",
   "pygments_lexer": "ipython3",
   "version": "3.7.7"
  }
 },
 "nbformat": 4,
 "nbformat_minor": 4
}
